{
 "cells": [
  {
   "cell_type": "code",
   "execution_count": null,
   "metadata": {
    "colab": {
     "base_uri": "https://localhost:8080/"
    },
    "collapsed": true,
    "id": "ClqH8ZDcxb3S",
    "outputId": "c630db93-4135-450b-c1ca-ccd0224ac19f"
   },
   "outputs": [],
   "source": [
    "# ===== STEP 1: INSTALL REQUIRED PACKAGES =====\n",
    "!pip install crewai==0.134.0\n",
    "!pip install 'crewai[tools]'"
   ]
  },
  {
   "cell_type": "code",
   "execution_count": null,
   "metadata": {
    "colab": {
     "base_uri": "https://localhost:8080/"
    },
    "collapsed": true,
    "id": "JZJSUDIRxfXA",
    "outputId": "ed474db3-50ba-4075-e34d-74203608aad7"
   },
   "outputs": [],
   "source": [
    "# ===== STEP 2: IMPORT LIBRARIES =====\n",
    "import os\n",
    "from crewai import Agent, Task, Crew, Process, LLM\n",
    "from crewai_tools import SerperDevTool\n",
    "\n",
    "import warnings\n",
    "warnings.filterwarnings('ignore')"
   ]
  },
  {
   "cell_type": "code",
   "execution_count": null,
   "metadata": {
    "id": "eKAYF44gyAgT"
   },
   "outputs": [],
   "source": [
    "# ===== STEP 3: SET UP API KEYS & LLMs=====\n",
    "from google.colab import userdata\n",
    "\n",
    "os.environ[\"GROQ_API_KEY\"] = userdata.get('GROQ_API_KEY')\n",
    "os.environ[\"GEMINI_API_KEY\"] = userdata.get('GEMINI_API_KEY')\n",
    "# os.environ[\"OPENAI_API_KEY\"] = userdata.get('OPENAI_API_KEY')\n",
    "\n",
    "os.environ[\"SERPER_API_KEY\"] = userdata.get('SERPER_API_KEY')"
   ]
  },
  {
   "cell_type": "code",
   "execution_count": null,
   "metadata": {
    "colab": {
     "base_uri": "https://localhost:8080/"
    },
    "id": "w12HysGzt8Pk",
    "outputId": "af03ee28-4563-48f2-dee1-e6254c87237c"
   },
   "outputs": [],
   "source": [
    "from google.colab import userdata\n",
    "gemini_api_key =  userdata.get('GEMINI_API_KEY')\n",
    "print(gemini_api_key)"
   ]
  },
  {
   "cell_type": "code",
   "execution_count": null,
   "metadata": {
    "id": "W3STGrmcMhPF"
   },
   "outputs": [],
   "source": [
    "# ===== Create LLMs\n",
    "# groq_llm = LLM(\n",
    "#     model=\"groq/llama-3.3-70b-versatile\",\n",
    "#     temperature=0.1\n",
    "# )\n",
    "\n",
    "gemini_llm = LLM(\n",
    "    model=\"gemini/gemini-2.0-flash\",\n",
    "    api_key=gemini_api_key,\n",
    "    # temperature=0.1\n",
    ")\n",
    "\n",
    "# openai_llm = LLM(\n",
    "#     model=\"openai/gpt-4o-mini\",\n",
    "#     temperature=0.1\n",
    "# )"
   ]
  },
  {
   "cell_type": "code",
   "execution_count": null,
   "metadata": {
    "id": "9mTBmWBWyJQ9"
   },
   "outputs": [],
   "source": [
    "# ===== STEP 4: INITIALIZE TOOLS =====\n",
    "search_tool = SerperDevTool()"
   ]
  },
  {
   "cell_type": "code",
   "execution_count": null,
   "metadata": {
    "id": "eBdXTwy6yvr_"
   },
   "outputs": [],
   "source": [
    "# ===== STEP 5: CREATE SPECIALIZED AGENTS ====="
   ]
  },
  {
   "cell_type": "code",
   "execution_count": null,
   "metadata": {
    "id": "DeLT5_z1yzA8"
   },
   "outputs": [],
   "source": [
    "# Agent 1: Question Research Expert\n",
    "question_researcher = Agent(\n",
    "    role='Interview Question Research Expert',\n",
    "    goal='Find the most commonly asked and important interview questions for any given topic',\n",
    "    backstory=\"\"\"You are an expert recruiter and interview specialist with years of experience\n",
    "    conducting technical interviews. You know exactly what questions are most frequently asked\n",
    "    by top companies and can identify the most critical questions that candidates need to prepare for.\n",
    "    You stay updated with the latest interview trends and have access to real interview experiences\n",
    "    from various companies.\"\"\",\n",
    "    tools=[],\n",
    "    verbose=True,\n",
    "    llm=gemini_llm\n",
    ")\n",
    "\n",
    "# Agent 2: DUBEXA Answer Expert\n",
    "dubexa_expert = Agent(\n",
    "    role='DUBEXA Format Answer Expert',\n",
    "    goal='Create comprehensive, well-structured answers in DUBEXA format that help candidates thoroughly understand and explain concepts',\n",
    "    backstory=\"\"\"You are a master educator and technical communication expert who specializes\n",
    "    in the DUBEXA format. You excel at breaking down complex concepts into clear, structured\n",
    "    explanations that follow the DUBEXA methodology:\n",
    "\n",
    "    - D: Definition using key technical terms\n",
    "    - U: Use case scenarios and real-world examples\n",
    "    - B: Benefits of using the concept\n",
    "    - E: Example code (when applicable)\n",
    "    - X: Extra information, edge cases, and limitations\n",
    "    - A: Analogies and metaphors for better understanding\n",
    "\n",
    "    You make technical concepts accessible while maintaining accuracy and depth.\"\"\",\n",
    "    tools=[],\n",
    "    verbose=True,\n",
    "    llm=gemini_llm\n",
    ")\n",
    "\n",
    "# Agent 3: Interview Coach\n",
    "interview_coach = Agent(\n",
    "    role='Senior Interview Coach',\n",
    "    goal='Provide additional interview tips, delivery advice, and presentation strategies for each answer',\n",
    "    backstory=\"\"\"You are a seasoned interview coach who has helped thousands of candidates\n",
    "    succeed in their interviews. You understand not just what to say, but how to say it\n",
    "    effectively. You provide practical tips on delivery, common follow-up questions,\n",
    "    and strategies to make answers more impactful during actual interviews.\"\"\",\n",
    "    tools=[],\n",
    "    verbose=True,\n",
    "    llm=gemini_llm\n",
    ")"
   ]
  },
  {
   "cell_type": "code",
   "execution_count": null,
   "metadata": {
    "id": "y7Eo0jtky4Rd"
   },
   "outputs": [],
   "source": [
    "# ===== STEP 6: DEFINE TASKS =====\n",
    "def create_question_research_task(topic):\n",
    "    return Task(\n",
    "        description=f\"\"\"Research and identify the top 3 most commonly asked interview questions about {topic}.\n",
    "\n",
    "        **Requirements:**\n",
    "        1. Focus on questions that are frequently asked in technical interviews\n",
    "        2. Prioritize questions that test fundamental understanding\n",
    "        3. Include a mix of basic and intermediate level questions\n",
    "        4. Ensure questions are relevant to current industry standards\n",
    "        5. Look for questions from reputable sources like:\n",
    "           - Top tech companies (Google, Amazon, Microsoft, etc.)\n",
    "           - Popular interview preparation platforms\n",
    "           - Technical forums and communities\n",
    "           - Recent interview experiences shared online\n",
    "\n",
    "        **Research Focus:**\n",
    "        - Find actual interview questions, not generic study topics\n",
    "        - Prioritize questions that require clear conceptual understanding\n",
    "        - Look for questions that allow for DUBEXA format explanations\n",
    "        - Consider questions that might have follow-ups or variations\n",
    "\n",
    "        Topic: {topic}\"\"\",\n",
    "\n",
    "        expected_output=\"\"\"A list of exactly 3 interview questions about the topic, formatted as:\n",
    "\n",
    "        **Question 1:** [Exact question text]\n",
    "        **Source/Context:** [Where this question is commonly asked - company types, interview rounds, etc.]\n",
    "        **Difficulty Level:** [Beginner/Intermediate/Advanced]\n",
    "\n",
    "        **Question 2:** [Exact question text]\n",
    "        **Source/Context:** [Where this question is commonly asked]\n",
    "        **Difficulty Level:** [Beginner/Intermediate/Advanced]\n",
    "\n",
    "        **Question 3:** [Exact question text]\n",
    "        **Source/Context:** [Where this question is commonly asked]\n",
    "        **Difficulty Level:** [Beginner/Intermediate/Advanced]\n",
    "\n",
    "        Each question should be specific, commonly asked.\"\"\",\n",
    "\n",
    "        agent=question_researcher\n",
    "    )\n",
    "\n",
    "def create_dubexa_answer_task(topic):\n",
    "    return Task(\n",
    "        description=f\"\"\"Create comprehensive DUBEXA format answers for each of the 3 interview questions about {topic}.\n",
    "\n",
    "        **DUBEXA Format Requirements:**\n",
    "\n",
    "        **D - Definition:**\n",
    "        - Provide a clear, technically accurate definition\n",
    "        - Use proper technical terminology\n",
    "        - Keep it concise but complete\n",
    "\n",
    "        **U - Use Cases & Why We Need It:**\n",
    "        - Explain real-world scenarios where this is used\n",
    "        - Provide specific, practical examples\n",
    "        - Explain WHY this concept/technology is important\n",
    "        - Include industry context\n",
    "\n",
    "        **B - Benefits:**\n",
    "        - List clear advantages and benefits\n",
    "        - Compare with alternatives when relevant\n",
    "        - Explain what problems it solves\n",
    "\n",
    "        **E - Example Code:**\n",
    "        - Provide practical, working code examples\n",
    "        - Include comments explaining key parts\n",
    "        - Use modern, best-practice syntax\n",
    "        - Make examples relevant to the concept\n",
    "\n",
    "        **X - Extra Information:**\n",
    "        - Cover edge cases and limitations\n",
    "        - Mention common pitfalls or misconceptions\n",
    "        - Include performance considerations\n",
    "        - Discuss when NOT to use it\n",
    "\n",
    "        **A - Analogies & Metaphors:**\n",
    "        - Create relatable analogies that simplify the concept\n",
    "        - Use everyday examples that non-technical people could understand\n",
    "        - Make the analogy memorable and accurate\n",
    "\n",
    "        **Instructions:**\n",
    "        - Answer each question thoroughly in DUBEXA format\n",
    "        - Ensure answers are interview-appropriate (not too long, but comprehensive)\n",
    "        - Use proper formatting and structure\n",
    "        - Include all 6 DUBEXA components for each question\"\"\",\n",
    "\n",
    "        expected_output=\"\"\"Complete DUBEXA format answers for all 3 questions, structured as:\n",
    "\n",
    "        ## Question 1: [Question text]\n",
    "\n",
    "        **Definition:**\n",
    "        [Clear technical definition]\n",
    "\n",
    "        **Use Cases & Why We Need It:**\n",
    "        [Real-world examples and importance]\n",
    "\n",
    "        **Benefits:**\n",
    "        [Advantages and problem-solving capabilities]\n",
    "\n",
    "        **Example Code:**\n",
    "        ```[language]\n",
    "        [Working code example with comments]\n",
    "        ```\n",
    "\n",
    "        **Extra Information:**\n",
    "        [Edge cases, limitations, best practices]\n",
    "\n",
    "        **Analogies & Metaphors:**\n",
    "        [Relatable analogies for better understanding]\n",
    "\n",
    "        ---\n",
    "\n",
    "        [Repeat same format for Questions 2 and 3]\n",
    "\n",
    "        Each answer should be comprehensive yet concise enough for interview delivery.\"\"\",\n",
    "\n",
    "        agent=dubexa_expert,\n",
    "        context=[create_question_research_task(topic)]\n",
    "    )\n",
    "\n",
    "def create_interview_coaching_task(topic):\n",
    "    return Task(\n",
    "        description=f\"\"\"Provide interview coaching and delivery tips for the DUBEXA answers about {topic}.\n",
    "\n",
    "        **Coaching Focus:**\n",
    "        1. **Delivery Tips:** How to present each answer effectively\n",
    "        2. **Time Management:** How long to spend on each part of DUBEXA\n",
    "        3. **Follow-up Questions:** Anticipate likely follow-up questions\n",
    "        4. **Common Mistakes:** What to avoid when answering\n",
    "        5. **Confidence Building:** Tips to sound knowledgeable and prepared\n",
    "        6. **Adaptation:** How to adjust answers based on interviewer's background\n",
    "\n",
    "        **For Each Question Provide:**\n",
    "        - Key points to emphasize during delivery\n",
    "        - Suggested time allocation for each DUBEXA component\n",
    "        - Potential follow-up questions interviewers might ask\n",
    "        - Red flags or common mistakes to avoid\n",
    "        - Tips for making the answer more engaging\n",
    "        - How to gauge if the interviewer wants more or less detail\"\"\",\n",
    "\n",
    "        expected_output=\"\"\"Interview coaching guide with delivery tips for each question:\n",
    "\n",
    "        ## Overall Interview Strategy for {topic}\n",
    "        [General tips for approaching these types of questions]\n",
    "\n",
    "        ## Question 1 Coaching: [Question text]\n",
    "        **Delivery Tips:** [How to present this answer effectively]\n",
    "        **Time Management:** [Suggested timing for each DUBEXA component]\n",
    "        **Likely Follow-ups:** [Questions interviewer might ask next]\n",
    "        **Common Pitfalls:** [What to avoid]\n",
    "        **Engagement Tips:** [How to make answer more compelling]\n",
    "\n",
    "        ## Question 2 Coaching: [Question text]\n",
    "        [Same structure as above]\n",
    "\n",
    "        ## Question 3 Coaching: [Question text]\n",
    "        [Same structure as above]\n",
    "\n",
    "        ## Final Interview Tips\n",
    "        - Body language and confidence tips\n",
    "        - How to handle if you don't know something\n",
    "        - Ways to show enthusiasm and deeper knowledge\n",
    "        - How to connect answers to real experience\"\"\",\n",
    "\n",
    "        agent=interview_coach,\n",
    "        context=[create_question_research_task(topic), create_dubexa_answer_task(topic)]\n",
    "    )"
   ]
  },
  {
   "cell_type": "code",
   "execution_count": null,
   "metadata": {
    "id": "QZTYvt-dzVei"
   },
   "outputs": [],
   "source": [
    "# ===== STEP 7: CREATE THE CREW =====\n",
    "def create_interview_prep_crew(topic):\n",
    "    \"\"\"Create an interview preparation crew for a specific topic\"\"\"\n",
    "\n",
    "    # Create all tasks for this topic\n",
    "    research_task = create_question_research_task(topic)\n",
    "    dubexa_task = create_dubexa_answer_task(topic)\n",
    "    coaching_task = create_interview_coaching_task(topic)\n",
    "\n",
    "    # Create the crew\n",
    "    crew = Crew(\n",
    "        agents=[question_researcher, dubexa_expert, interview_coach],\n",
    "        tasks=[research_task, dubexa_task, coaching_task],\n",
    "        process=Process.sequential,\n",
    "        verbose=True,\n",
    "        max_rpm=3\n",
    "    )\n",
    "\n",
    "    return crew"
   ]
  },
  {
   "cell_type": "code",
   "execution_count": null,
   "metadata": {
    "colab": {
     "base_uri": "https://localhost:8080/",
     "height": 1000,
     "referenced_widgets": [
      "af909d8b386d47199829293889bcfe4b",
      "d7eba48bb76a4a0187307798c27b5bf4",
      "b3e39a0b2aef47348a12f6ae19b977fa",
      "50ba650d8b1a40acbf8b255ab962b059",
      "ad2f365e0da044838b692404e59ed36a",
      "df9f2048ffd640658171facd7cfc1b81",
      "7ad58ff2efd34e3383b066f503cf15ab",
      "972969ef2af44eb5bbed5b6849318fa7",
      "b32da9158b9841d2bc1e25e39617e802",
      "4391e58efaf54c1bb458b3fa1d71ddd5"
     ]
    },
    "id": "fn2GZUfezWRG",
    "outputId": "e3d57b85-0bd2-4846-bef8-b692660e9d61"
   },
   "outputs": [],
   "source": [
    "# ===== STEP 8: EXAMPLE USAGE =====\n",
    "\n",
    "# Example topic\n",
    "example_topic = \"JavaScript Closures\"\n",
    "interview_crew = create_interview_prep_crew(example_topic)\n",
    "result = interview_crew.kickoff()"
   ]
  },
  {
   "cell_type": "code",
   "execution_count": null,
   "metadata": {
    "id": "lBZVGlLGZ0n0"
   },
   "outputs": [],
   "source": []
  },
  {
   "cell_type": "code",
   "execution_count": null,
   "metadata": {
    "id": "hQHf0bwSZ0lW"
   },
   "outputs": [],
   "source": []
  },
  {
   "cell_type": "code",
   "execution_count": null,
   "metadata": {
    "id": "6bpIJtpZZ0is"
   },
   "outputs": [],
   "source": []
  },
  {
   "cell_type": "code",
   "execution_count": null,
   "metadata": {
    "id": "mVL5uMbAZ0fn"
   },
   "outputs": [],
   "source": []
  },
  {
   "cell_type": "code",
   "execution_count": null,
   "metadata": {
    "id": "AP4kU0jEZ0c-"
   },
   "outputs": [],
   "source": []
  },
  {
   "cell_type": "markdown",
   "metadata": {
    "id": "4XjqZZ1PZnmp"
   },
   "source": [
    "## With free models/providers you may encounter rate limits:"
   ]
  },
  {
   "cell_type": "markdown",
   "metadata": {
    "id": "IAwePPyeZxa5"
   },
   "source": [
    "![image.png](data:image/png;base64,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)"
   ]
  },
  {
   "cell_type": "markdown",
   "metadata": {
    "id": "npuzGkc7aQrJ"
   },
   "source": [
    "set `max_rpm` while assembling the crew"
   ]
  },
  {
   "cell_type": "code",
   "execution_count": null,
   "metadata": {
    "id": "1WJqOdhJZnC-"
   },
   "outputs": [],
   "source": []
  },
  {
   "cell_type": "code",
   "execution_count": null,
   "metadata": {
    "id": "uxAOU2wrz_Q-"
   },
   "outputs": [],
   "source": []
  }
 ],
 "metadata": {
  "colab": {
   "provenance": []
  },
  "kernelspec": {
   "display_name": "Python 3",
   "name": "python3"
  },
  "language_info": {
   "name": "python"
  },
  "widgets": {
   "application/vnd.jupyter.widget-state+json": {
    "4391e58efaf54c1bb458b3fa1d71ddd5": {
     "model_module": "@jupyter-widgets/base",
     "model_module_version": "1.2.0",
     "model_name": "LayoutModel",
     "state": {
      "_model_module": "@jupyter-widgets/base",
      "_model_module_version": "1.2.0",
      "_model_name": "LayoutModel",
      "_view_count": null,
      "_view_module": "@jupyter-widgets/base",
      "_view_module_version": "1.2.0",
      "_view_name": "LayoutView",
      "align_content": null,
      "align_items": null,
      "align_self": null,
      "border": null,
      "bottom": null,
      "display": null,
      "flex": null,
      "flex_flow": null,
      "grid_area": null,
      "grid_auto_columns": null,
      "grid_auto_flow": null,
      "grid_auto_rows": null,
      "grid_column": null,
      "grid_gap": null,
      "grid_row": null,
      "grid_template_areas": null,
      "grid_template_columns": null,
      "grid_template_rows": null,
      "height": null,
      "justify_content": null,
      "justify_items": null,
      "left": null,
      "margin": null,
      "max_height": null,
      "max_width": null,
      "min_height": null,
      "min_width": null,
      "object_fit": null,
      "object_position": null,
      "order": null,
      "overflow": null,
      "overflow_x": null,
      "overflow_y": null,
      "padding": null,
      "right": null,
      "top": null,
      "visibility": null,
      "width": null
     }
    },
    "50ba650d8b1a40acbf8b255ab962b059": {
     "model_module": "@jupyter-widgets/base",
     "model_module_version": "1.2.0",
     "model_name": "LayoutModel",
     "state": {
      "_model_module": "@jupyter-widgets/base",
      "_model_module_version": "1.2.0",
      "_model_name": "LayoutModel",
      "_view_count": null,
      "_view_module": "@jupyter-widgets/base",
      "_view_module_version": "1.2.0",
      "_view_name": "LayoutView",
      "align_content": null,
      "align_items": null,
      "align_self": null,
      "border": null,
      "bottom": null,
      "display": null,
      "flex": null,
      "flex_flow": null,
      "grid_area": null,
      "grid_auto_columns": null,
      "grid_auto_flow": null,
      "grid_auto_rows": null,
      "grid_column": null,
      "grid_gap": null,
      "grid_row": null,
      "grid_template_areas": null,
      "grid_template_columns": null,
      "grid_template_rows": null,
      "height": null,
      "justify_content": null,
      "justify_items": null,
      "left": null,
      "margin": null,
      "max_height": null,
      "max_width": null,
      "min_height": null,
      "min_width": null,
      "object_fit": null,
      "object_position": null,
      "order": null,
      "overflow": null,
      "overflow_x": null,
      "overflow_y": null,
      "padding": null,
      "right": null,
      "top": null,
      "visibility": null,
      "width": null
     }
    },
    "7ad58ff2efd34e3383b066f503cf15ab": {
     "model_module": "@jupyter-widgets/output",
     "model_module_version": "1.0.0",
     "model_name": "OutputModel",
     "state": {
      "_dom_classes": [],
      "_model_module": "@jupyter-widgets/output",
      "_model_module_version": "1.0.0",
      "_model_name": "OutputModel",
      "_view_count": null,
      "_view_module": "@jupyter-widgets/output",
      "_view_module_version": "1.0.0",
      "_view_name": "OutputView",
      "layout": "IPY_MODEL_972969ef2af44eb5bbed5b6849318fa7",
      "msg_id": "",
      "outputs": [
       {
        "data": {
         "text/html": "<pre style=\"white-space:pre;overflow-x:auto;line-height:normal;font-family:Menlo,'DejaVu Sans Mono',consolas,'Courier New',monospace\"><span style=\"color: #008080; text-decoration-color: #008080; font-weight: bold\">🚀 Crew: crew</span>\n├── <span style=\"color: #008000; text-decoration-color: #008000; font-weight: bold\">📋 Task: fc228b2d-07ac-4887-88a3-d5b072bd856c</span>\n│   <span style=\"color: #c0c0c0; text-decoration-color: #c0c0c0\">Assigned to: </span><span style=\"color: #008000; text-decoration-color: #008000\">Interview Question Research Expert</span>\n│   <span style=\"color: #c0c0c0; text-decoration-color: #c0c0c0\">Status: </span><span style=\"color: #008000; text-decoration-color: #008000; font-weight: bold\">✅ Completed</span>\n│   └── <span style=\"color: #008000; text-decoration-color: #008000; font-weight: bold\">🔧 </span><span style=\"color: #008000; text-decoration-color: #008000\">Used Search the internet with Serper (3)</span>\n└── <span style=\"color: #808000; text-decoration-color: #808000; font-weight: bold\">📋 Task: e3906450-8666-4398-b10a-a8e70b361934</span>\n    <span style=\"color: #c0c0c0; text-decoration-color: #c0c0c0\">Status: </span><span style=\"color: #bfbf7f; text-decoration-color: #bfbf7f\">Executing Task...</span>\n    └── <span style=\"color: #008000; text-decoration-color: #008000; font-weight: bold\">🔧 </span><span style=\"color: #008000; text-decoration-color: #008000\">Used Search the internet with Serper (4)</span>\n</pre>\n",
         "text/plain": "\u001b[1;36m🚀 Crew: \u001b[0m\u001b[1;36mcrew\u001b[0m\n├── \u001b[1;32m📋 Task: fc228b2d-07ac-4887-88a3-d5b072bd856c\u001b[0m\n│   \u001b[37mAssigned to: \u001b[0m\u001b[32mInterview Question Research Expert\u001b[0m\n│   \u001b[37mStatus: \u001b[0m\u001b[1;32m✅ Completed\u001b[0m\n│   └── \u001b[1;32m🔧 \u001b[0m\u001b[32mUsed Search the internet with Serper (3)\u001b[0m\n└── \u001b[1;33m📋 Task: e3906450-8666-4398-b10a-a8e70b361934\u001b[0m\n    \u001b[37mStatus: \u001b[0m\u001b[2;33mExecuting Task...\u001b[0m\n    └── \u001b[1;32m🔧 \u001b[0m\u001b[32mUsed Search the internet with Serper (4)\u001b[0m\n"
        },
        "metadata": {},
        "output_type": "display_data"
       }
      ]
     }
    },
    "972969ef2af44eb5bbed5b6849318fa7": {
     "model_module": "@jupyter-widgets/base",
     "model_module_version": "1.2.0",
     "model_name": "LayoutModel",
     "state": {
      "_model_module": "@jupyter-widgets/base",
      "_model_module_version": "1.2.0",
      "_model_name": "LayoutModel",
      "_view_count": null,
      "_view_module": "@jupyter-widgets/base",
      "_view_module_version": "1.2.0",
      "_view_name": "LayoutView",
      "align_content": null,
      "align_items": null,
      "align_self": null,
      "border": null,
      "bottom": null,
      "display": null,
      "flex": null,
      "flex_flow": null,
      "grid_area": null,
      "grid_auto_columns": null,
      "grid_auto_flow": null,
      "grid_auto_rows": null,
      "grid_column": null,
      "grid_gap": null,
      "grid_row": null,
      "grid_template_areas": null,
      "grid_template_columns": null,
      "grid_template_rows": null,
      "height": null,
      "justify_content": null,
      "justify_items": null,
      "left": null,
      "margin": null,
      "max_height": null,
      "max_width": null,
      "min_height": null,
      "min_width": null,
      "object_fit": null,
      "object_position": null,
      "order": null,
      "overflow": null,
      "overflow_x": null,
      "overflow_y": null,
      "padding": null,
      "right": null,
      "top": null,
      "visibility": null,
      "width": null
     }
    },
    "ad2f365e0da044838b692404e59ed36a": {
     "model_module": "@jupyter-widgets/output",
     "model_module_version": "1.0.0",
     "model_name": "OutputModel",
     "state": {
      "_dom_classes": [],
      "_model_module": "@jupyter-widgets/output",
      "_model_module_version": "1.0.0",
      "_model_name": "OutputModel",
      "_view_count": null,
      "_view_module": "@jupyter-widgets/output",
      "_view_module_version": "1.0.0",
      "_view_name": "OutputView",
      "layout": "IPY_MODEL_df9f2048ffd640658171facd7cfc1b81",
      "msg_id": "",
      "outputs": [
       {
        "data": {
         "text/html": "<pre style=\"white-space:pre;overflow-x:auto;line-height:normal;font-family:Menlo,'DejaVu Sans Mono',consolas,'Courier New',monospace\"><span style=\"color: #008080; text-decoration-color: #008080; font-weight: bold\">🚀 Crew: crew</span>\n├── <span style=\"color: #008000; text-decoration-color: #008000; font-weight: bold\">📋 Task: fc228b2d-07ac-4887-88a3-d5b072bd856c</span>\n│   <span style=\"color: #c0c0c0; text-decoration-color: #c0c0c0\">Assigned to: </span><span style=\"color: #008000; text-decoration-color: #008000\">Interview Question Research Expert</span>\n│   <span style=\"color: #c0c0c0; text-decoration-color: #c0c0c0\">Status: </span><span style=\"color: #008000; text-decoration-color: #008000; font-weight: bold\">✅ Completed</span>\n│   └── <span style=\"color: #008000; text-decoration-color: #008000; font-weight: bold\">🔧 </span><span style=\"color: #008000; text-decoration-color: #008000\">Used Search the internet with Serper (3)</span>\n└── <span style=\"color: #808000; text-decoration-color: #808000; font-weight: bold\">📋 Task: e3906450-8666-4398-b10a-a8e70b361934</span>\n    <span style=\"color: #c0c0c0; text-decoration-color: #c0c0c0\">Status: </span><span style=\"color: #bfbf7f; text-decoration-color: #bfbf7f\">Executing Task...</span>\n    └── <span style=\"color: #808000; text-decoration-color: #808000; font-weight: bold\">🔧 </span><span style=\"color: #808000; text-decoration-color: #808000\">Using Search the internet with Serper (4)</span>\n</pre>\n",
         "text/plain": "\u001b[1;36m🚀 Crew: \u001b[0m\u001b[1;36mcrew\u001b[0m\n├── \u001b[1;32m📋 Task: fc228b2d-07ac-4887-88a3-d5b072bd856c\u001b[0m\n│   \u001b[37mAssigned to: \u001b[0m\u001b[32mInterview Question Research Expert\u001b[0m\n│   \u001b[37mStatus: \u001b[0m\u001b[1;32m✅ Completed\u001b[0m\n│   └── \u001b[1;32m🔧 \u001b[0m\u001b[32mUsed Search the internet with Serper (3)\u001b[0m\n└── \u001b[1;33m📋 Task: e3906450-8666-4398-b10a-a8e70b361934\u001b[0m\n    \u001b[37mStatus: \u001b[0m\u001b[2;33mExecuting Task...\u001b[0m\n    └── \u001b[1;33m🔧 \u001b[0m\u001b[33mUsing Search the internet with Serper (4)\u001b[0m\n"
        },
        "metadata": {},
        "output_type": "display_data"
       }
      ]
     }
    },
    "af909d8b386d47199829293889bcfe4b": {
     "model_module": "@jupyter-widgets/output",
     "model_module_version": "1.0.0",
     "model_name": "OutputModel",
     "state": {
      "_dom_classes": [],
      "_model_module": "@jupyter-widgets/output",
      "_model_module_version": "1.0.0",
      "_model_name": "OutputModel",
      "_view_count": null,
      "_view_module": "@jupyter-widgets/output",
      "_view_module_version": "1.0.0",
      "_view_name": "OutputView",
      "layout": "IPY_MODEL_d7eba48bb76a4a0187307798c27b5bf4",
      "msg_id": "",
      "outputs": [
       {
        "data": {
         "text/html": "<pre style=\"white-space:pre;overflow-x:auto;line-height:normal;font-family:Menlo,'DejaVu Sans Mono',consolas,'Courier New',monospace\"><span style=\"color: #008080; text-decoration-color: #008080; font-weight: bold\">🚀 Crew: crew</span>\n└── <span style=\"color: #808000; text-decoration-color: #808000; font-weight: bold\">📋 Task: fc228b2d-07ac-4887-88a3-d5b072bd856c</span>\n    <span style=\"color: #c0c0c0; text-decoration-color: #c0c0c0\">Status: </span><span style=\"color: #bfbf7f; text-decoration-color: #bfbf7f\">Executing Task...</span>\n    └── <span style=\"color: #808000; text-decoration-color: #808000; font-weight: bold\">🔧 </span><span style=\"color: #808000; text-decoration-color: #808000\">Using Search the internet with Serper (3)</span>\n</pre>\n",
         "text/plain": "\u001b[1;36m🚀 Crew: \u001b[0m\u001b[1;36mcrew\u001b[0m\n└── \u001b[1;33m📋 Task: fc228b2d-07ac-4887-88a3-d5b072bd856c\u001b[0m\n    \u001b[37mStatus: \u001b[0m\u001b[2;33mExecuting Task...\u001b[0m\n    └── \u001b[1;33m🔧 \u001b[0m\u001b[33mUsing Search the internet with Serper (3)\u001b[0m\n"
        },
        "metadata": {},
        "output_type": "display_data"
       }
      ]
     }
    },
    "b32da9158b9841d2bc1e25e39617e802": {
     "model_module": "@jupyter-widgets/output",
     "model_module_version": "1.0.0",
     "model_name": "OutputModel",
     "state": {
      "_dom_classes": [],
      "_model_module": "@jupyter-widgets/output",
      "_model_module_version": "1.0.0",
      "_model_name": "OutputModel",
      "_view_count": null,
      "_view_module": "@jupyter-widgets/output",
      "_view_module_version": "1.0.0",
      "_view_name": "OutputView",
      "layout": "IPY_MODEL_4391e58efaf54c1bb458b3fa1d71ddd5",
      "msg_id": "",
      "outputs": [
       {
        "data": {
         "text/html": "<pre style=\"white-space:pre;overflow-x:auto;line-height:normal;font-family:Menlo,'DejaVu Sans Mono',consolas,'Courier New',monospace\"><span style=\"color: #008080; text-decoration-color: #008080; font-weight: bold\">🚀 Crew: crew</span>\n├── <span style=\"color: #008000; text-decoration-color: #008000; font-weight: bold\">📋 Task: fc228b2d-07ac-4887-88a3-d5b072bd856c</span>\n│   <span style=\"color: #c0c0c0; text-decoration-color: #c0c0c0\">Assigned to: </span><span style=\"color: #008000; text-decoration-color: #008000\">Interview Question Research Expert</span>\n│   <span style=\"color: #c0c0c0; text-decoration-color: #c0c0c0\">Status: </span><span style=\"color: #008000; text-decoration-color: #008000; font-weight: bold\">✅ Completed</span>\n│   └── <span style=\"color: #008000; text-decoration-color: #008000; font-weight: bold\">🔧 </span><span style=\"color: #008000; text-decoration-color: #008000\">Used Search the internet with Serper (3)</span>\n├── <span style=\"color: #008000; text-decoration-color: #008000; font-weight: bold\">📋 Task: e3906450-8666-4398-b10a-a8e70b361934</span>\n│   <span style=\"color: #c0c0c0; text-decoration-color: #c0c0c0\">Assigned to: </span><span style=\"color: #008000; text-decoration-color: #008000\">DUBEXA Format Answer Expert</span>\n│   <span style=\"color: #c0c0c0; text-decoration-color: #c0c0c0\">Status: </span><span style=\"color: #008000; text-decoration-color: #008000; font-weight: bold\">✅ Completed</span>\n│   └── <span style=\"color: #008000; text-decoration-color: #008000; font-weight: bold\">🔧 </span><span style=\"color: #008000; text-decoration-color: #008000\">Used Search the internet with Serper (4)</span>\n└── <span style=\"color: #808000; text-decoration-color: #808000; font-weight: bold\">📋 Task: b73518f8-f61e-49ab-9ad8-e014bdb31d10</span>\n    <span style=\"color: #c0c0c0; text-decoration-color: #c0c0c0\">Status: </span><span style=\"color: #bfbf7f; text-decoration-color: #bfbf7f\">Executing Task...</span>\n</pre>\n",
         "text/plain": "\u001b[1;36m🚀 Crew: \u001b[0m\u001b[1;36mcrew\u001b[0m\n├── \u001b[1;32m📋 Task: fc228b2d-07ac-4887-88a3-d5b072bd856c\u001b[0m\n│   \u001b[37mAssigned to: \u001b[0m\u001b[32mInterview Question Research Expert\u001b[0m\n│   \u001b[37mStatus: \u001b[0m\u001b[1;32m✅ Completed\u001b[0m\n│   └── \u001b[1;32m🔧 \u001b[0m\u001b[32mUsed Search the internet with Serper (3)\u001b[0m\n├── \u001b[1;32m📋 Task: e3906450-8666-4398-b10a-a8e70b361934\u001b[0m\n│   \u001b[37mAssigned to: \u001b[0m\u001b[32mDUBEXA Format Answer Expert\u001b[0m\n│   \u001b[37mStatus: \u001b[0m\u001b[1;32m✅ Completed\u001b[0m\n│   └── \u001b[1;32m🔧 \u001b[0m\u001b[32mUsed Search the internet with Serper (4)\u001b[0m\n└── \u001b[1;33m📋 Task: b73518f8-f61e-49ab-9ad8-e014bdb31d10\u001b[0m\n    \u001b[37mStatus: \u001b[0m\u001b[2;33mExecuting Task...\u001b[0m\n"
        },
        "metadata": {},
        "output_type": "display_data"
       }
      ]
     }
    },
    "b3e39a0b2aef47348a12f6ae19b977fa": {
     "model_module": "@jupyter-widgets/output",
     "model_module_version": "1.0.0",
     "model_name": "OutputModel",
     "state": {
      "_dom_classes": [],
      "_model_module": "@jupyter-widgets/output",
      "_model_module_version": "1.0.0",
      "_model_name": "OutputModel",
      "_view_count": null,
      "_view_module": "@jupyter-widgets/output",
      "_view_module_version": "1.0.0",
      "_view_name": "OutputView",
      "layout": "IPY_MODEL_50ba650d8b1a40acbf8b255ab962b059",
      "msg_id": "",
      "outputs": [
       {
        "data": {
         "text/html": "<pre style=\"white-space:pre;overflow-x:auto;line-height:normal;font-family:Menlo,'DejaVu Sans Mono',consolas,'Courier New',monospace\"><span style=\"color: #008080; text-decoration-color: #008080; font-weight: bold\">🚀 Crew: crew</span>\n└── <span style=\"color: #808000; text-decoration-color: #808000; font-weight: bold\">📋 Task: fc228b2d-07ac-4887-88a3-d5b072bd856c</span>\n    <span style=\"color: #c0c0c0; text-decoration-color: #c0c0c0\">Status: </span><span style=\"color: #bfbf7f; text-decoration-color: #bfbf7f\">Executing Task...</span>\n    └── <span style=\"color: #008000; text-decoration-color: #008000; font-weight: bold\">🔧 </span><span style=\"color: #008000; text-decoration-color: #008000\">Used Search the internet with Serper (3)</span>\n</pre>\n",
         "text/plain": "\u001b[1;36m🚀 Crew: \u001b[0m\u001b[1;36mcrew\u001b[0m\n└── \u001b[1;33m📋 Task: fc228b2d-07ac-4887-88a3-d5b072bd856c\u001b[0m\n    \u001b[37mStatus: \u001b[0m\u001b[2;33mExecuting Task...\u001b[0m\n    └── \u001b[1;32m🔧 \u001b[0m\u001b[32mUsed Search the internet with Serper (3)\u001b[0m\n"
        },
        "metadata": {},
        "output_type": "display_data"
       }
      ]
     }
    },
    "d7eba48bb76a4a0187307798c27b5bf4": {
     "model_module": "@jupyter-widgets/base",
     "model_module_version": "1.2.0",
     "model_name": "LayoutModel",
     "state": {
      "_model_module": "@jupyter-widgets/base",
      "_model_module_version": "1.2.0",
      "_model_name": "LayoutModel",
      "_view_count": null,
      "_view_module": "@jupyter-widgets/base",
      "_view_module_version": "1.2.0",
      "_view_name": "LayoutView",
      "align_content": null,
      "align_items": null,
      "align_self": null,
      "border": null,
      "bottom": null,
      "display": null,
      "flex": null,
      "flex_flow": null,
      "grid_area": null,
      "grid_auto_columns": null,
      "grid_auto_flow": null,
      "grid_auto_rows": null,
      "grid_column": null,
      "grid_gap": null,
      "grid_row": null,
      "grid_template_areas": null,
      "grid_template_columns": null,
      "grid_template_rows": null,
      "height": null,
      "justify_content": null,
      "justify_items": null,
      "left": null,
      "margin": null,
      "max_height": null,
      "max_width": null,
      "min_height": null,
      "min_width": null,
      "object_fit": null,
      "object_position": null,
      "order": null,
      "overflow": null,
      "overflow_x": null,
      "overflow_y": null,
      "padding": null,
      "right": null,
      "top": null,
      "visibility": null,
      "width": null
     }
    },
    "df9f2048ffd640658171facd7cfc1b81": {
     "model_module": "@jupyter-widgets/base",
     "model_module_version": "1.2.0",
     "model_name": "LayoutModel",
     "state": {
      "_model_module": "@jupyter-widgets/base",
      "_model_module_version": "1.2.0",
      "_model_name": "LayoutModel",
      "_view_count": null,
      "_view_module": "@jupyter-widgets/base",
      "_view_module_version": "1.2.0",
      "_view_name": "LayoutView",
      "align_content": null,
      "align_items": null,
      "align_self": null,
      "border": null,
      "bottom": null,
      "display": null,
      "flex": null,
      "flex_flow": null,
      "grid_area": null,
      "grid_auto_columns": null,
      "grid_auto_flow": null,
      "grid_auto_rows": null,
      "grid_column": null,
      "grid_gap": null,
      "grid_row": null,
      "grid_template_areas": null,
      "grid_template_columns": null,
      "grid_template_rows": null,
      "height": null,
      "justify_content": null,
      "justify_items": null,
      "left": null,
      "margin": null,
      "max_height": null,
      "max_width": null,
      "min_height": null,
      "min_width": null,
      "object_fit": null,
      "object_position": null,
      "order": null,
      "overflow": null,
      "overflow_x": null,
      "overflow_y": null,
      "padding": null,
      "right": null,
      "top": null,
      "visibility": null,
      "width": null
     }
    }
   },
   "state": {}
  }
 },
 "nbformat": 4,
 "nbformat_minor": 0
}
