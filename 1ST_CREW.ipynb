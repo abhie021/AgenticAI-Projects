{
 "cells": [
  {
   "cell_type": "code",
   "execution_count": null,
   "metadata": {
    "colab": {
     "base_uri": "https://localhost:8080/"
    },
    "collapsed": true,
    "id": "g49oZxiSSgRS",
    "outputId": "8efb73ad-a663-4e1a-bc20-dc068aa7d509"
   },
   "outputs": [],
   "source": [
    "# ===== STEP 1: INSTALL REQUIRED PACKAGES =====\n",
    "!pip install crewai==0.134.0\n",
    "!pip install 'crewai[tools]'"
   ]
  },
  {
   "cell_type": "code",
   "execution_count": null,
   "metadata": {
    "collapsed": true,
    "id": "lUVsE4puTAZB"
   },
   "outputs": [],
   "source": [
    "# ===== STEP 2: IMPORT LIBRARIES =====\n",
    "import os\n",
    "from crewai import Agent, Task, Crew, Process, LLM\n",
    "from crewai_tools import SerperDevTool\n",
    "\n",
    "import warnings\n",
    "warnings.filterwarnings('ignore')"
   ]
  },
  {
   "cell_type": "code",
   "execution_count": null,
   "metadata": {
    "colab": {
     "base_uri": "https://localhost:8080/",
     "height": 211
    },
    "id": "8D4FLHF_TAxD",
    "outputId": "e54b556d-e438-4621-d23a-b5a4ba8531e1"
   },
   "outputs": [],
   "source": [
    "# ===== STEP 3: SET UP API KEYS =====\n",
    "from google.colab import userdata\n",
    "import os\n",
    "\n",
    "# os.environ[\"OPENAI_API_KEY\"] = userdata.get('OPENAI_API_KEY')\n",
    "# os.environ[\"GROQ_API_KEY\"] = userdata.get('GROQ_API_KEY')\n",
    "os.environ[\"GEMINI_API_KEY\"] = userdata.get('GEMINI_API_KEY')\n",
    "\n",
    "# os.environ[\"SERPER_API_KEY\"] = userdata.get('SERPER_API_KEY')"
   ]
  },
  {
   "cell_type": "code",
   "execution_count": null,
   "metadata": {
    "id": "7FKJkWuDUNQD"
   },
   "outputs": [],
   "source": [
    "# ===== STEP 4: CHOOSE YOUR LLM =====\n",
    "# 🚀 UNCOMMENT THE LLM YOU WANT TO USE:\n",
    "\n",
    "groq_llm = LLM(\n",
    "    model=\"groq/llama-3.3-70b-versatile\",\n",
    "    temperature=0.1\n",
    ")\n",
    "\n",
    "gemini_llm = LLM(\n",
    "    model=\"gemini/gemini-2.0-flash\",\n",
    "    # api_key=userdata.get('GEMINI_API_KEY'),\n",
    "    temperature=0.1\n",
    ")\n",
    "\n",
    "# openai_llm = LLM(\n",
    "#     model=\"openai/gpt-4o-mini\",\n",
    "#     temperature=0.1\n",
    "# )"
   ]
  },
  {
   "cell_type": "code",
   "execution_count": null,
   "metadata": {
    "id": "3TRiF-DAUWNR"
   },
   "outputs": [],
   "source": [
    "# 💡 QUICK LLM GUIDE:\n",
    "# 🟢 Groq = FREE + Super Fast (recommended for beginners!)\n",
    "# 🟡 OpenAI = Premium Quality (costs money)\n",
    "# 🟦 Gemini = Good Balance (cheap)"
   ]
  },
  {
   "cell_type": "code",
   "execution_count": null,
   "metadata": {
    "id": "JrEGUgPhTMUE"
   },
   "outputs": [],
   "source": [
    "dubexa_expert = Agent(\n",
    "    role='DUBEXA Format Answer Expert',\n",
    "    goal='Create comprehensive, well-structured answers in DUBEXA format that help candidates thoroughly understand and explain concepts',\n",
    "    backstory=\"\"\"You are a master educator and technical communication expert who specializes\n",
    "    in the DUBEXA format. You excel at breaking down complex concepts into clear, structured\n",
    "    explanations that follow the DUBEXA methodology:\n",
    "\n",
    "    - D: Definition using key technical terms\n",
    "    - U: Use case scenarios and real-world examples\n",
    "    - B: Benefits of using the concept\n",
    "    - E: Example code (when applicable)\n",
    "    - X: Extra information, edge cases, and limitations\n",
    "    - A: Analogies and metaphors for better understanding\n",
    "\n",
    "    You make technical concepts accessible while maintaining accuracy and depth.\"\"\",\n",
    "    tools=[],\n",
    "    verbose=True,\n",
    "    allow_delegation=False,\n",
    "    max_iter=3,\n",
    "    llm=gemini_llm\n",
    ")"
   ]
  },
  {
   "cell_type": "code",
   "execution_count": null,
   "metadata": {
    "id": "AGBEbQ5xTXPx"
   },
   "outputs": [],
   "source": [
    "dubexa_answer_task = Task(\n",
    "        description=f\"\"\"Create comprehensive DUBEXA format answers for each of the technical questions about closures in Javascript.\n",
    "\n",
    "        **DUBEXA Format Requirements:**\n",
    "\n",
    "        **D - Definition:**\n",
    "        - Provide a clear, technically accurate definition\n",
    "        - Use proper technical terminology\n",
    "        - Keep it concise but complete\n",
    "\n",
    "        **U - Use Cases & Why We Need It:**\n",
    "        - Explain real-world scenarios where this is used\n",
    "        - Provide specific, practical examples\n",
    "        - Explain WHY this concept/technology is important\n",
    "        - Include industry context\n",
    "\n",
    "        **B - Benefits:**\n",
    "        - List clear advantages and benefits\n",
    "        - Compare with alternatives when relevant\n",
    "        - Explain what problems it solves\n",
    "\n",
    "        **E - Example Code:**\n",
    "        - Provide practical, working code examples\n",
    "        - Include comments explaining key parts\n",
    "        - Use modern, best-practice syntax\n",
    "        - Make examples relevant to the concept\n",
    "\n",
    "        **X - Extra Information:**\n",
    "        - Cover edge cases and limitations\n",
    "        - Mention common pitfalls or misconceptions\n",
    "        - Include performance considerations\n",
    "        - Discuss when NOT to use it\n",
    "\n",
    "        **A - Analogies & Metaphors:**\n",
    "        - Create relatable analogies that simplify the concept\n",
    "        - Use everyday examples that non-technical people could understand\n",
    "        - Make the analogy memorable and accurate\n",
    "\n",
    "        **Instructions:**\n",
    "        - Answer each question thoroughly in DUBEXA format\n",
    "        - Ensure answers are interview-appropriate (not too long, but comprehensive)\n",
    "        - Use proper formatting and structure\n",
    "        - Include all 6 DUBEXA components for each question\"\"\",\n",
    "\n",
    "        expected_output=\"\"\"Complete DUBEXA format answers for the question, structured as:\n",
    "\n",
    "        ## Question 1: [Question text]\n",
    "\n",
    "        **Definition:**\n",
    "        [Clear technical definition]\n",
    "\n",
    "        **Use Cases & Why We Need It:**\n",
    "        [Real-world examples and importance]\n",
    "\n",
    "        **Benefits:**\n",
    "        [Advantages and problem-solving capabilities]\n",
    "\n",
    "        **Example Code:**\n",
    "        ```[language]\n",
    "        [Working code example with comments]\n",
    "        ```\n",
    "\n",
    "        **Extra Information:**\n",
    "        [Edge cases, limitations, best practices]\n",
    "\n",
    "        **Analogies & Metaphors:**\n",
    "        [Relatable analogies for better understanding]\n",
    "\n",
    "        ---\n",
    "\n",
    "        [Repeat same format for Questions 2 and 3]\n",
    "\n",
    "        Each answer should be comprehensive yet concise enough for interview delivery.\"\"\",\n",
    "\n",
    "        agent=dubexa_expert\n",
    ")"
   ]
  },
  {
   "cell_type": "code",
   "execution_count": null,
   "metadata": {
    "id": "gjHB-MufT7y_"
   },
   "outputs": [],
   "source": [
    "interview_crew = Crew(\n",
    "    agents=[dubexa_expert],\n",
    "    tasks=[dubexa_answer_task],\n",
    "    process=Process.sequential,\n",
    "    verbose=True,\n",
    ")"
   ]
  },
  {
   "cell_type": "code",
   "execution_count": null,
   "metadata": {
    "colab": {
     "base_uri": "https://localhost:8080/",
     "height": 1000,
     "referenced_widgets": [
      "336b6a7372964a529fc105afd5f3f59a",
      "194a9154be0844bdb437fed4799d5163"
     ]
    },
    "id": "taTuhc1lUS9R",
    "outputId": "3df18263-e8a0-4ce5-d697-4af043f05920"
   },
   "outputs": [],
   "source": [
    "result = interview_crew.kickoff()"
   ]
  },
  {
   "cell_type": "code",
   "execution_count": null,
   "metadata": {
    "id": "AgKWgrQiUi-R"
   },
   "outputs": [],
   "source": []
  }
 ],
 "metadata": {
  "colab": {
   "provenance": []
  },
  "kernelspec": {
   "display_name": "Python 3",
   "name": "python3"
  },
  "language_info": {
   "name": "python"
  },
  "widgets": {
   "application/vnd.jupyter.widget-state+json": {
    "194a9154be0844bdb437fed4799d5163": {
     "model_module": "@jupyter-widgets/base",
     "model_module_version": "1.2.0",
     "model_name": "LayoutModel",
     "state": {
      "_model_module": "@jupyter-widgets/base",
      "_model_module_version": "1.2.0",
      "_model_name": "LayoutModel",
      "_view_count": null,
      "_view_module": "@jupyter-widgets/base",
      "_view_module_version": "1.2.0",
      "_view_name": "LayoutView",
      "align_content": null,
      "align_items": null,
      "align_self": null,
      "border": null,
      "bottom": null,
      "display": null,
      "flex": null,
      "flex_flow": null,
      "grid_area": null,
      "grid_auto_columns": null,
      "grid_auto_flow": null,
      "grid_auto_rows": null,
      "grid_column": null,
      "grid_gap": null,
      "grid_row": null,
      "grid_template_areas": null,
      "grid_template_columns": null,
      "grid_template_rows": null,
      "height": null,
      "justify_content": null,
      "justify_items": null,
      "left": null,
      "margin": null,
      "max_height": null,
      "max_width": null,
      "min_height": null,
      "min_width": null,
      "object_fit": null,
      "object_position": null,
      "order": null,
      "overflow": null,
      "overflow_x": null,
      "overflow_y": null,
      "padding": null,
      "right": null,
      "top": null,
      "visibility": null,
      "width": null
     }
    },
    "336b6a7372964a529fc105afd5f3f59a": {
     "model_module": "@jupyter-widgets/output",
     "model_module_version": "1.0.0",
     "model_name": "OutputModel",
     "state": {
      "_dom_classes": [],
      "_model_module": "@jupyter-widgets/output",
      "_model_module_version": "1.0.0",
      "_model_name": "OutputModel",
      "_view_count": null,
      "_view_module": "@jupyter-widgets/output",
      "_view_module_version": "1.0.0",
      "_view_name": "OutputView",
      "layout": "IPY_MODEL_194a9154be0844bdb437fed4799d5163",
      "msg_id": "",
      "outputs": [
       {
        "data": {
         "text/html": "<pre style=\"white-space:pre;overflow-x:auto;line-height:normal;font-family:Menlo,'DejaVu Sans Mono',consolas,'Courier New',monospace\"><span style=\"color: #008080; text-decoration-color: #008080; font-weight: bold\">🚀 Crew: crew</span>\n└── <span style=\"color: #808000; text-decoration-color: #808000; font-weight: bold\">📋 Task: 5113dc1e-24dc-4054-a0ca-a7403566d0ad</span>\n    <span style=\"color: #c0c0c0; text-decoration-color: #c0c0c0\">Status: </span><span style=\"color: #bfbf7f; text-decoration-color: #bfbf7f\">Executing Task...</span>\n</pre>\n",
         "text/plain": "\u001b[1;36m🚀 Crew: \u001b[0m\u001b[1;36mcrew\u001b[0m\n└── \u001b[1;33m📋 Task: 5113dc1e-24dc-4054-a0ca-a7403566d0ad\u001b[0m\n    \u001b[37mStatus: \u001b[0m\u001b[2;33mExecuting Task...\u001b[0m\n"
        },
        "metadata": {},
        "output_type": "display_data"
       }
      ]
     }
    }
   },
   "state": {}
  }
 },
 "nbformat": 4,
 "nbformat_minor": 0
}
